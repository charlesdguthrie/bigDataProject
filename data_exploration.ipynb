{
 "cells": [
  {
   "cell_type": "markdown",
   "metadata": {},
   "source": [
    "# Data Exploration"
   ]
  },
  {
   "cell_type": "code",
   "execution_count": 57,
   "metadata": {},
   "outputs": [],
   "source": [
    "import pandas as pd\n",
    "import numpy as np\n",
    "from datetime import datetime\n",
    "import matplotlib.pyplot as plt\n",
    "%matplotlib inline"
   ]
  },
  {
   "cell_type": "code",
   "execution_count": 69,
   "metadata": {},
   "outputs": [],
   "source": [
    "fpath = 'data/311_2009.csv'\n",
    "rawdf = pd.read_csv(fpath)"
   ]
  },
  {
   "cell_type": "code",
   "execution_count": 7,
   "metadata": {},
   "outputs": [
    {
     "data": {
      "text/plain": [
       "RangeIndex(start=0, stop=489607, step=1)"
      ]
     },
     "execution_count": 7,
     "metadata": {},
     "output_type": "execute_result"
    }
   ],
   "source": [
    "df.index"
   ]
  },
  {
   "cell_type": "code",
   "execution_count": 18,
   "metadata": {},
   "outputs": [],
   "source": [
    "sample_ids = np.random.choice(rawdf.index,50000,replace=False)"
   ]
  },
  {
   "cell_type": "code",
   "execution_count": 42,
   "metadata": {},
   "outputs": [],
   "source": [
    "df = rawdf.loc[sample_ids]"
   ]
  },
  {
   "cell_type": "code",
   "execution_count": 21,
   "metadata": {},
   "outputs": [
    {
     "data": {
      "text/plain": [
       "(50000, 52)"
      ]
     },
     "execution_count": 21,
     "metadata": {},
     "output_type": "execute_result"
    }
   ],
   "source": [
    "df.shape"
   ]
  },
  {
   "cell_type": "code",
   "execution_count": 22,
   "metadata": {},
   "outputs": [
    {
     "data": {
      "text/html": [
       "<div>\n",
       "<table border=\"1\" class=\"dataframe\">\n",
       "  <thead>\n",
       "    <tr style=\"text-align: right;\">\n",
       "      <th></th>\n",
       "      <th>Unique Key</th>\n",
       "      <th>Created Date</th>\n",
       "      <th>Closed Date</th>\n",
       "      <th>Agency</th>\n",
       "      <th>Agency Name</th>\n",
       "      <th>Complaint Type</th>\n",
       "      <th>Descriptor</th>\n",
       "      <th>Location Type</th>\n",
       "      <th>Incident Zip</th>\n",
       "      <th>Incident Address</th>\n",
       "      <th>...</th>\n",
       "      <th>Bridge Highway Name</th>\n",
       "      <th>Bridge Highway Direction</th>\n",
       "      <th>Road Ramp</th>\n",
       "      <th>Bridge Highway Segment</th>\n",
       "      <th>Garage Lot Name</th>\n",
       "      <th>Ferry Direction</th>\n",
       "      <th>Ferry Terminal Name</th>\n",
       "      <th>Latitude</th>\n",
       "      <th>Longitude</th>\n",
       "      <th>Location</th>\n",
       "    </tr>\n",
       "  </thead>\n",
       "  <tbody>\n",
       "    <tr>\n",
       "      <th>489102</th>\n",
       "      <td>13448673</td>\n",
       "      <td>03/27/2009 12:00:00 AM</td>\n",
       "      <td>04/14/2009 12:00:00 AM</td>\n",
       "      <td>HPD</td>\n",
       "      <td>Department of Housing Preservation and Develop...</td>\n",
       "      <td>CONSTRUCTION</td>\n",
       "      <td>ELEVATOR</td>\n",
       "      <td>RESIDENTIAL BUILDING</td>\n",
       "      <td>11233</td>\n",
       "      <td>120 CHAUNCEY STREET</td>\n",
       "      <td>...</td>\n",
       "      <td>NaN</td>\n",
       "      <td>NaN</td>\n",
       "      <td>NaN</td>\n",
       "      <td>NaN</td>\n",
       "      <td>NaN</td>\n",
       "      <td>NaN</td>\n",
       "      <td>NaN</td>\n",
       "      <td>40.680399</td>\n",
       "      <td>-73.929417</td>\n",
       "      <td>(40.6803990181202, -73.92941723335176)</td>\n",
       "    </tr>\n",
       "    <tr>\n",
       "      <th>24488</th>\n",
       "      <td>12860067</td>\n",
       "      <td>01/06/2009 12:00:00 AM</td>\n",
       "      <td>02/21/2009 12:00:00 AM</td>\n",
       "      <td>HPD</td>\n",
       "      <td>Department of Housing Preservation and Develop...</td>\n",
       "      <td>ELECTRIC</td>\n",
       "      <td>LIGHTING</td>\n",
       "      <td>RESIDENTIAL BUILDING</td>\n",
       "      <td>10462</td>\n",
       "      <td>1836 MATTHEWS AVENUE</td>\n",
       "      <td>...</td>\n",
       "      <td>NaN</td>\n",
       "      <td>NaN</td>\n",
       "      <td>NaN</td>\n",
       "      <td>NaN</td>\n",
       "      <td>NaN</td>\n",
       "      <td>NaN</td>\n",
       "      <td>NaN</td>\n",
       "      <td>40.847298</td>\n",
       "      <td>-73.862113</td>\n",
       "      <td>(40.84729811600354, -73.86211274900768)</td>\n",
       "    </tr>\n",
       "    <tr>\n",
       "      <th>464820</th>\n",
       "      <td>13342727</td>\n",
       "      <td>03/10/2009 12:00:00 AM</td>\n",
       "      <td>03/12/2009 12:00:00 AM</td>\n",
       "      <td>DOT</td>\n",
       "      <td>Department of Transportation</td>\n",
       "      <td>Street Condition</td>\n",
       "      <td>Pothole</td>\n",
       "      <td>NaN</td>\n",
       "      <td>11213</td>\n",
       "      <td>NaN</td>\n",
       "      <td>...</td>\n",
       "      <td>NaN</td>\n",
       "      <td>NaN</td>\n",
       "      <td>NaN</td>\n",
       "      <td>NaN</td>\n",
       "      <td>NaN</td>\n",
       "      <td>NaN</td>\n",
       "      <td>NaN</td>\n",
       "      <td>40.675039</td>\n",
       "      <td>-73.930530</td>\n",
       "      <td>(40.675039149900094, -73.93052967257964)</td>\n",
       "    </tr>\n",
       "    <tr>\n",
       "      <th>385463</th>\n",
       "      <td>13077600</td>\n",
       "      <td>02/02/2009 12:00:00 AM</td>\n",
       "      <td>02/22/2009 12:00:00 AM</td>\n",
       "      <td>HPD</td>\n",
       "      <td>Department of Housing Preservation and Develop...</td>\n",
       "      <td>NONCONST</td>\n",
       "      <td>SMOKE-DETECTOR</td>\n",
       "      <td>RESIDENTIAL BUILDING</td>\n",
       "      <td>10458</td>\n",
       "      <td>2691 MARION AVENUE</td>\n",
       "      <td>...</td>\n",
       "      <td>NaN</td>\n",
       "      <td>NaN</td>\n",
       "      <td>NaN</td>\n",
       "      <td>NaN</td>\n",
       "      <td>NaN</td>\n",
       "      <td>NaN</td>\n",
       "      <td>NaN</td>\n",
       "      <td>40.865424</td>\n",
       "      <td>-73.889871</td>\n",
       "      <td>(40.86542378450216, -73.8898705669588)</td>\n",
       "    </tr>\n",
       "    <tr>\n",
       "      <th>389710</th>\n",
       "      <td>13401613</td>\n",
       "      <td>03/18/2009 12:00:00 AM</td>\n",
       "      <td>03/19/2009 12:00:00 AM</td>\n",
       "      <td>DOT</td>\n",
       "      <td>Department of Transportation</td>\n",
       "      <td>Street Condition</td>\n",
       "      <td>Pothole</td>\n",
       "      <td>NaN</td>\n",
       "      <td>11435</td>\n",
       "      <td>143-31 HOOVER AVENUE</td>\n",
       "      <td>...</td>\n",
       "      <td>NaN</td>\n",
       "      <td>NaN</td>\n",
       "      <td>NaN</td>\n",
       "      <td>NaN</td>\n",
       "      <td>NaN</td>\n",
       "      <td>NaN</td>\n",
       "      <td>NaN</td>\n",
       "      <td>40.714246</td>\n",
       "      <td>-73.814838</td>\n",
       "      <td>(40.71424648747301, -73.81483750580222)</td>\n",
       "    </tr>\n",
       "  </tbody>\n",
       "</table>\n",
       "<p>5 rows × 52 columns</p>\n",
       "</div>"
      ],
      "text/plain": [
       "        Unique Key            Created Date             Closed Date Agency  \\\n",
       "489102    13448673  03/27/2009 12:00:00 AM  04/14/2009 12:00:00 AM    HPD   \n",
       "24488     12860067  01/06/2009 12:00:00 AM  02/21/2009 12:00:00 AM    HPD   \n",
       "464820    13342727  03/10/2009 12:00:00 AM  03/12/2009 12:00:00 AM    DOT   \n",
       "385463    13077600  02/02/2009 12:00:00 AM  02/22/2009 12:00:00 AM    HPD   \n",
       "389710    13401613  03/18/2009 12:00:00 AM  03/19/2009 12:00:00 AM    DOT   \n",
       "\n",
       "                                              Agency Name    Complaint Type  \\\n",
       "489102  Department of Housing Preservation and Develop...      CONSTRUCTION   \n",
       "24488   Department of Housing Preservation and Develop...          ELECTRIC   \n",
       "464820                       Department of Transportation  Street Condition   \n",
       "385463  Department of Housing Preservation and Develop...          NONCONST   \n",
       "389710                       Department of Transportation  Street Condition   \n",
       "\n",
       "            Descriptor         Location Type Incident Zip  \\\n",
       "489102        ELEVATOR  RESIDENTIAL BUILDING        11233   \n",
       "24488         LIGHTING  RESIDENTIAL BUILDING        10462   \n",
       "464820         Pothole                   NaN        11213   \n",
       "385463  SMOKE-DETECTOR  RESIDENTIAL BUILDING        10458   \n",
       "389710         Pothole                   NaN        11435   \n",
       "\n",
       "            Incident Address                    ...                     \\\n",
       "489102   120 CHAUNCEY STREET                    ...                      \n",
       "24488   1836 MATTHEWS AVENUE                    ...                      \n",
       "464820                   NaN                    ...                      \n",
       "385463    2691 MARION AVENUE                    ...                      \n",
       "389710  143-31 HOOVER AVENUE                    ...                      \n",
       "\n",
       "       Bridge Highway Name Bridge Highway Direction Road Ramp  \\\n",
       "489102                 NaN                      NaN       NaN   \n",
       "24488                  NaN                      NaN       NaN   \n",
       "464820                 NaN                      NaN       NaN   \n",
       "385463                 NaN                      NaN       NaN   \n",
       "389710                 NaN                      NaN       NaN   \n",
       "\n",
       "       Bridge Highway Segment Garage Lot Name Ferry Direction  \\\n",
       "489102                    NaN             NaN             NaN   \n",
       "24488                     NaN             NaN             NaN   \n",
       "464820                    NaN             NaN             NaN   \n",
       "385463                    NaN             NaN             NaN   \n",
       "389710                    NaN             NaN             NaN   \n",
       "\n",
       "       Ferry Terminal Name   Latitude  Longitude  \\\n",
       "489102                 NaN  40.680399 -73.929417   \n",
       "24488                  NaN  40.847298 -73.862113   \n",
       "464820                 NaN  40.675039 -73.930530   \n",
       "385463                 NaN  40.865424 -73.889871   \n",
       "389710                 NaN  40.714246 -73.814838   \n",
       "\n",
       "                                        Location  \n",
       "489102    (40.6803990181202, -73.92941723335176)  \n",
       "24488    (40.84729811600354, -73.86211274900768)  \n",
       "464820  (40.675039149900094, -73.93052967257964)  \n",
       "385463    (40.86542378450216, -73.8898705669588)  \n",
       "389710   (40.71424648747301, -73.81483750580222)  \n",
       "\n",
       "[5 rows x 52 columns]"
      ]
     },
     "execution_count": 22,
     "metadata": {},
     "output_type": "execute_result"
    }
   ],
   "source": [
    "df.head()"
   ]
  },
  {
   "cell_type": "markdown",
   "metadata": {},
   "source": [
    "# Explore Data by Day, Hour\n",
    "SPOILER: no hourly data available"
   ]
  },
  {
   "cell_type": "code",
   "execution_count": 88,
   "metadata": {},
   "outputs": [],
   "source": [
    "def str2day(value,fmt='%m/%d/%Y %I:%M:%S %p'):\n",
    "    date = datetime.strptime(value,fmt)\n",
    "    return date.day"
   ]
  },
  {
   "cell_type": "code",
   "execution_count": 89,
   "metadata": {
    "collapsed": true
   },
   "outputs": [],
   "source": [
    "def str2hour(value,fmt='%m/%d/%Y %I:%M:%S %p'):\n",
    "    date = datetime.strptime(value,fmt)\n",
    "    return date.hour"
   ]
  },
  {
   "cell_type": "code",
   "execution_count": 90,
   "metadata": {},
   "outputs": [],
   "source": [
    "df['day'] = df['Created Date'].apply(str2date)"
   ]
  },
  {
   "cell_type": "code",
   "execution_count": 91,
   "metadata": {},
   "outputs": [],
   "source": [
    "df['hour'] = df['Created Date'].apply(str2hour)"
   ]
  },
  {
   "cell_type": "code",
   "execution_count": 51,
   "metadata": {},
   "outputs": [],
   "source": [
    "daily_counts = df.groupby('day').count()"
   ]
  },
  {
   "cell_type": "code",
   "execution_count": 92,
   "metadata": {},
   "outputs": [
    {
     "data": {
      "text/plain": [
       "[<matplotlib.lines.Line2D at 0x14251fed0>]"
      ]
     },
     "execution_count": 92,
     "metadata": {},
     "output_type": "execute_result"
    },
    {
     "data": {
      "image/png": "[encoded data removed]",
      "text/plain": [
       "<matplotlib.figure.Figure at 0x13f438150>"
      ]
     },
     "metadata": {},
     "output_type": "display_data"
    }
   ],
   "source": [
    "fig, ax = plt.subplots(1,figsize=(10,4))\n",
    "ax.plot(daily_counts.index,daily_counts['Unique Key'])"
   ]
  },
  {
   "cell_type": "code",
   "execution_count": null,
   "metadata": {
    "collapsed": true
   },
   "outputs": [],
   "source": [
    "df[df['COMPLAINT TYPE']==]"
   ]
  },
  {
   "cell_type": "code",
   "execution_count": null,
   "metadata": {
    "collapsed": true
   },
   "outputs": [],
   "source": [
    "fig, ax = plt.subplots(1,figsize=(10,4))\n",
    "ax.plot(daily_counts.index,daily_counts['Unique Key'])"
   ]
  },
  {
   "cell_type": "code",
   "execution_count": null,
   "metadata": {
    "collapsed": true
   },
   "outputs": [],
   "source": [
    "value = df.loc[489102,'Created Date']\n",
    "date = datetime.strptime(value,'%m/%d/%Y %I:%M:%S %p')"
   ]
  },
  {
   "cell_type": "markdown",
   "metadata": {},
   "source": [
    "# Unique Complaint Types"
   ]
  },
  {
   "cell_type": "code",
   "execution_count": 113,
   "metadata": {},
   "outputs": [
    {
     "data": {
      "text/plain": [
       "array(['CONSTRUCTION', 'ELECTRIC', 'Street Condition', 'NONCONST',\n",
       "       'GENERAL CONSTRUCTION', 'Dirty Conditions', 'PAINT - PLASTER',\n",
       "       'Street Light Condition', 'Blocked Driveway', 'HEATING',\n",
       "       'Water System', 'Elevator', 'Air Quality', 'Food Establishment',\n",
       "       'Public Payphone Complaint', 'Noise', 'APPLIANCE',\n",
       "       'Noise - Commercial', 'PLUMBING', 'Derelict Vehicle',\n",
       "       'Traffic Signal Condition', 'Taxi Complaint', 'Highway Condition',\n",
       "       'Smoking', 'For Hire Vehicle Complaint', 'Derelict Vehicles',\n",
       "       'Missed Collection (All Materials)', 'Broken Muni Meter',\n",
       "       'Sidewalk Condition', 'General Construction/Plumbing',\n",
       "       'Noise - Vehicle', 'Sanitation Condition',\n",
       "       'Root/Sewer/Sidewalk Condition', 'Building/Use', 'Sewer', 'Rodent',\n",
       "       'Snow', 'Special Projects Inspection Team (SPIT)', 'Plumbing',\n",
       "       'Indoor Air Quality', 'Consumer Complaint',\n",
       "       'Overgrown Tree/Branches', 'Investigations and Discipline (IAD)',\n",
       "       'Water Conservation', 'Electrical', 'Graffiti', 'Vending',\n",
       "       'Recycling Enforcement', 'Other Enforcement', 'Cranes and Derricks',\n",
       "       'Damaged Tree', 'Noise - House of Worship', 'Broken Parking Meter',\n",
       "       'Dead Tree', 'Disorderly Youth', 'Street Sign - Missing',\n",
       "       'Noise - Street/Sidewalk',\n",
       "       'DCA / DOH New License Application Request',\n",
       "       'Maintenance or Facility', 'Litter Basket / Request', 'Vacant Lot',\n",
       "       'Boilers', 'Street Sign - Dangling', 'Water Quality',\n",
       "       'Hazardous Materials', 'Street Sign - Damaged',\n",
       "       'Sweeping/Missed-Inadequate', 'Lead',\n",
       "       'Emergency Response Team (ERT)', 'Parent Leadership',\n",
       "       'Food Poisoning', 'Violation of Park Rules', 'Bridge Condition',\n",
       "       'Non-Residential Heat', 'Plant', 'Industrial Waste',\n",
       "       'Legal Services Provider Complaint', 'Registration and Transfers',\n",
       "       'Asbestos', 'Senior Center Complaint', 'Noise - Park',\n",
       "       'Posting Advertisement', 'Highway Sign - Missing',\n",
       "       'Discipline and Suspension', 'Animal in a Park', 'Safety',\n",
       "       'Unsanitary Animal Pvt Property', 'DOE Complaint or Compliment',\n",
       "       'School Maintenance', 'Unsanitary Pigeon Condition', 'Window Guard',\n",
       "       'Miscellaneous Categories', 'Illegal Animal - Sold/Kept',\n",
       "       'Overflowing Litter Baskets', 'Health',\n",
       "       'Beach/Pool/Sauna Complaint', 'BEST/Site Safety',\n",
       "       'Teaching/Learning/Instruction', 'Tree Work Permit Request',\n",
       "       'Collection Truck Noise', 'Bike/Roller/Skate Chronic',\n",
       "       'Found Property', 'Portable Toilet', 'Drinking',\n",
       "       'Homeless Encampment', 'Unleashed Dog', 'Ferry Inquiry',\n",
       "       'City Vehicle Placard Complaint', 'Stalled Sites',\n",
       "       'Scaffold Safety', 'Municipal Parking Facility', 'Mold',\n",
       "       'Bus Stop Shelter Placement', 'Taxi Compliment',\n",
       "       'Special Enforcement', 'Harboring Bees/Wasps', 'Panhandling',\n",
       "       'Tattooing', 'Highway Sign - Dangling', 'Highway Sign - Damaged',\n",
       "       'Bottled Water', 'Ferry Complaint', 'Public Toilet',\n",
       "       'Radioactive Material', 'X-Ray Machine/Equipment',\n",
       "       'Special Natural Area District (SNAD)',\n",
       "       'Transportation Provider Complaint', 'Urinating in Public'], dtype=object)"
      ]
     },
     "execution_count": 113,
     "metadata": {},
     "output_type": "execute_result"
    }
   ],
   "source": [
    "df['Complaint Type'].unique()"
   ]
  },
  {
   "cell_type": "code",
   "execution_count": 102,
   "metadata": {},
   "outputs": [
    {
     "data": {
      "text/html": [
       "<div>\n",
       "<table border=\"1\" class=\"dataframe\">\n",
       "  <thead>\n",
       "    <tr style=\"text-align: right;\">\n",
       "      <th></th>\n",
       "      <th>Unique Key</th>\n",
       "      <th>Created Date</th>\n",
       "      <th>Closed Date</th>\n",
       "      <th>Agency</th>\n",
       "      <th>Agency Name</th>\n",
       "      <th>Complaint Type</th>\n",
       "      <th>Descriptor</th>\n",
       "      <th>Location Type</th>\n",
       "      <th>Incident Zip</th>\n",
       "      <th>Incident Address</th>\n",
       "      <th>...</th>\n",
       "      <th>Bridge Highway Direction</th>\n",
       "      <th>Road Ramp</th>\n",
       "      <th>Bridge Highway Segment</th>\n",
       "      <th>Garage Lot Name</th>\n",
       "      <th>Ferry Direction</th>\n",
       "      <th>Ferry Terminal Name</th>\n",
       "      <th>Latitude</th>\n",
       "      <th>Longitude</th>\n",
       "      <th>Location</th>\n",
       "      <th>day</th>\n",
       "    </tr>\n",
       "    <tr>\n",
       "      <th>hour</th>\n",
       "      <th></th>\n",
       "      <th></th>\n",
       "      <th></th>\n",
       "      <th></th>\n",
       "      <th></th>\n",
       "      <th></th>\n",
       "      <th></th>\n",
       "      <th></th>\n",
       "      <th></th>\n",
       "      <th></th>\n",
       "      <th></th>\n",
       "      <th></th>\n",
       "      <th></th>\n",
       "      <th></th>\n",
       "      <th></th>\n",
       "      <th></th>\n",
       "      <th></th>\n",
       "      <th></th>\n",
       "      <th></th>\n",
       "      <th></th>\n",
       "      <th></th>\n",
       "    </tr>\n",
       "  </thead>\n",
       "  <tbody>\n",
       "    <tr>\n",
       "      <th>0</th>\n",
       "      <td>757</td>\n",
       "      <td>757</td>\n",
       "      <td>743</td>\n",
       "      <td>757</td>\n",
       "      <td>757</td>\n",
       "      <td>757</td>\n",
       "      <td>757</td>\n",
       "      <td>0</td>\n",
       "      <td>733</td>\n",
       "      <td>558</td>\n",
       "      <td>...</td>\n",
       "      <td>0</td>\n",
       "      <td>0</td>\n",
       "      <td>0</td>\n",
       "      <td>0</td>\n",
       "      <td>0</td>\n",
       "      <td>0</td>\n",
       "      <td>733</td>\n",
       "      <td>733</td>\n",
       "      <td>733</td>\n",
       "      <td>757</td>\n",
       "    </tr>\n",
       "  </tbody>\n",
       "</table>\n",
       "<p>1 rows × 53 columns</p>\n",
       "</div>"
      ],
      "text/plain": [
       "      Unique Key  Created Date  Closed Date  Agency  Agency Name  \\\n",
       "hour                                                               \n",
       "0            757           757          743     757          757   \n",
       "\n",
       "      Complaint Type  Descriptor  Location Type  Incident Zip  \\\n",
       "hour                                                            \n",
       "0                757         757              0           733   \n",
       "\n",
       "      Incident Address ...   Bridge Highway Direction  Road Ramp  \\\n",
       "hour                   ...                                         \n",
       "0                  558 ...                          0          0   \n",
       "\n",
       "      Bridge Highway Segment  Garage Lot Name  Ferry Direction  \\\n",
       "hour                                                             \n",
       "0                          0                0                0   \n",
       "\n",
       "      Ferry Terminal Name  Latitude  Longitude  Location  day  \n",
       "hour                                                           \n",
       "0                       0       733        733       733  757  \n",
       "\n",
       "[1 rows x 53 columns]"
      ]
     },
     "execution_count": 102,
     "metadata": {},
     "output_type": "execute_result"
    }
   ],
   "source": [
    "df[df['Complaint Type']=='Noise'].groupby('hour').count()"
   ]
  },
  {
   "cell_type": "code",
   "execution_count": 117,
   "metadata": {},
   "outputs": [
    {
     "data": {
      "text/plain": [
       "array([ 40.70397649,  40.86729   ,  40.64332451, ...,  40.81236414,\n",
       "        40.65358519,  40.64692855])"
      ]
     },
     "execution_count": 117,
     "metadata": {},
     "output_type": "execute_result"
    }
   ],
   "source": [
    "df.loc[df['Complaint Type']=='HEATING','Latitude'].unique()"
   ]
  },
  {
   "cell_type": "code",
   "execution_count": null,
   "metadata": {
    "collapsed": true
   },
   "outputs": [],
   "source": []
  }
 ],
 "metadata": {
  "kernelspec": {
   "display_name": "Python 2",
   "language": "python",
   "name": "python2"
  },
  "language_info": {
   "codemirror_mode": {
    "name": "ipython",
    "version": 2
   },
   "file_extension": ".py",
   "mimetype": "text/x-python",
   "name": "python",
   "nbconvert_exporter": "python",
   "pygments_lexer": "ipython2",
   "version": "2.7.13"
  }
 },
 "nbformat": 4,
 "nbformat_minor": 2
}
