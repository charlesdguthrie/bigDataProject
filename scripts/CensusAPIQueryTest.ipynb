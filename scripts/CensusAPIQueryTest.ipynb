{
 "cells": [
  {
   "cell_type": "markdown",
   "metadata": {},
   "source": [
    "# Census Reporter API Query"
   ]
  },
  {
   "cell_type": "code",
   "execution_count": 1,
   "metadata": {
    "collapsed": true
   },
   "outputs": [],
   "source": [
    "import requests\n",
    "import urllib\n",
    "import json\n",
    "import pandas as pd\n",
    "\n",
    "def get_table_data(table_ids):\n",
    "    api_url = 'https://api.censusreporter.org/1.0/data/show/latest?'\n",
    "    params = {'table_ids':','.join(table_ids),\n",
    "             'geo_ids':'16000US3651000,860|16000US3651000',\n",
    "              'primary_geo_id':'16000US3651000'}\n",
    "    params_enc = urllib.parse.urlencode(params)\n",
    "    data = json.loads(requests.get(api_url + params_enc).text)\n",
    "    return data\n",
    "\n",
    "def get_table_as_json(table_ids):\n",
    "    api_url = 'https://api.censusreporter.org/1.0/data/show/latest?'\n",
    "    params = {'table_ids':','.join(table_ids),\n",
    "             'geo_ids':'16000US3651000,860|16000US3651000',\n",
    "              'primary_geo_id':'16000US3651000'}\n",
    "    params_enc = urllib.parse.urlencode(params)\n",
    "    data = requests.get(api_url + params_enc).text\n",
    "    return data"
   ]
  },
  {
   "cell_type": "code",
   "execution_count": 2,
   "metadata": {
    "collapsed": false
   },
   "outputs": [],
   "source": [
    "d = get_table_data(['B01001'])"
   ]
  },
  {
   "cell_type": "code",
   "execution_count": 3,
   "metadata": {
    "collapsed": false
   },
   "outputs": [],
   "source": [
    "# Adapted from https://gist.github.com/JoeGermuska/1ed425c068d540326854\n",
    "def prep_for_pandas(json_data,include_moe=False):\n",
    "    \"\"\"Given a dict of dicts as they come from a Census Reporter API call, set it up to be amenable to pandas.DataFrame.from_dict\"\"\"\n",
    "    result = {}\n",
    "    for geoid, tables in json_data.items():\n",
    "        flat = {}\n",
    "        for table, values in tables.items():\n",
    "            for kind, columns in values.items():\n",
    "                if kind == 'estimate':\n",
    "                    flat.update(columns)\n",
    "                elif kind == 'error' and include_moe:\n",
    "                    renamed = dict((k+\"_moe\",v) for k,v in columns.items())\n",
    "                    flat.update(renamed)\n",
    "        result[geoid] = flat\n",
    "    return result\n",
    "\n",
    "def expand_column_names(col_dict):\n",
    "    level_range = list(sorted(set(coldata['indent'] for colkey, coldata in col_dict.items())))\n",
    "    max_level, min_level = max(level_range), min(level_range)\n",
    "    curr_level = min(level_range)\n",
    "    # loop through columns one at a time.\n",
    "    # at each step, if we have increased the indent level,\n",
    "    # add to the column prefix\n",
    "    prefix = []\n",
    "    out_names = []\n",
    "    for colkey, coldata in sorted(col_dict.items()):\n",
    "        clean_name = coldata['name'].strip(':')\n",
    "        if coldata['indent'] == min_level:\n",
    "            prefix = [clean_name]\n",
    "            out_names.append(' '.join(prefix))\n",
    "        elif coldata['indent'] > prev_level and coldata['indent'] != max_level:\n",
    "            prefix.append(clean_name)\n",
    "            out_names.append(' '.join(prefix))\n",
    "        elif coldata['indent'] <= prev_level: # gone down a step\n",
    "            prefix.pop() # remove the last item\n",
    "            prefix.append(clean_name)\n",
    "            out_names.append(' '.join(prefix))\n",
    "        else:\n",
    "            out_names.append(' '.join(prefix + [clean_name]))\n",
    "        prev_level = coldata['indent']\n",
    "    return out_names"
   ]
  },
  {
   "cell_type": "code",
   "execution_count": 4,
   "metadata": {
    "collapsed": false
   },
   "outputs": [],
   "source": [
    "# BUILD PANDAS DATAFRAME FROM CensusReporter TABLEID\n",
    "def dataframe_from_json(table_name):\n",
    "    d = get_table_data([table_name])\n",
    "    df = pd.DataFrame.from_dict(prep_for_pandas(d['data']),orient='index')\n",
    "\n",
    "    columns_to_names = dict(zip(sorted(d['tables'][table_name]['columns'].keys()), expand_column_names(d['tables'][table_name]['columns'])))\n",
    "    new_columns = [columns_to_names[colname] for colname in df.columns]\n",
    "    df.columns = new_columns\n",
    "    new_index = [rowname.split('US')[-1] for rowname in df.index]\n",
    "    df.index = new_index\n",
    "    df.index.name='ZIP/Loc Code'\n",
    "    return df\n",
    "\n",
    "# EXAMPLE OF FUNCTION CALL => Insert specific Table ID (table_name) from CensusReporter\n",
    "df_race = dataframe_from_json('B25006') # B01001\n",
    "# df_age  = dataframe_from_json('B01001') \n",
    "df_gdp = dataframe_from_json('B19301')\n",
    "#df.columns = zip(sorted(d['tables']['B01001']['columns'].keys()), expand_column_names(d['tables']['B01001']['columns']))"
   ]
  },
  {
   "cell_type": "code",
   "execution_count": 6,
   "metadata": {
    "collapsed": false
   },
   "outputs": [],
   "source": [
    "df_gdp.to_csv(\"/Users/danny/Documents/courses/spring-2017/big-data/bigDataProject/R/part-2/heat-hypothesis/data/census-gdp.csv\")"
   ]
  },
  {
   "cell_type": "code",
   "execution_count": null,
   "metadata": {
    "collapsed": false
   },
   "outputs": [],
   "source": [
    "df_race.to_csv(path_or_buf=\"/Users/danny/Documents/courses/spring-2017/big-data/bigDataProject/data/census_race.csv\")\n",
    "df_age.to_csv(path_or_buf=\"/Users/danny/Documents/courses/spring-2017/big-data/bigDataProject/data/census_age.csv\")"
   ]
  },
  {
   "cell_type": "code",
   "execution_count": null,
   "metadata": {
    "collapsed": false
   },
   "outputs": [],
   "source": []
  },
  {
   "cell_type": "code",
   "execution_count": null,
   "metadata": {
    "collapsed": false
   },
   "outputs": [],
   "source": [
    "d['tables']['B01001']['columns']\n",
    "\n",
    "def create_column_multiindex(col_dict):\n",
    "    index_range = list(sorted(set(coldata['indent'] for colkey, coldata in col_dict.items())))\n",
    "    levels = []\n",
    "    for level in index_range:\n",
    "        # get all the labels with the given index\n",
    "        curr_level = []\n",
    "        for colkey, coldata in col_dict.items():\n",
    "            if coldata['indent'] == level:\n",
    "                curr_level.append(coldata['name'])\n",
    "        \n",
    "        levels.append(list(set(curr_level)))\n",
    "            \n",
    "    return pd.MultiIndex.from_product(levels, names=[str(i) for i in range(len(levels))])\n",
    "\n",
    "create_column_multiindex(d['tables']['B01001']['columns'])"
   ]
  },
  {
   "cell_type": "code",
   "execution_count": null,
   "metadata": {
    "collapsed": false
   },
   "outputs": [],
   "source": [
    "columns_to_names = {col : d['tables']['B01001']['columns'][col]['name'] for col in d['tables']['B01001']['columns'].keys()}\n",
    "for colkey in sorted(d['data']['86000US07036']['B01001']['estimate'].keys()):\n",
    "    print columns_to_names[colkey], d['data']['86000US07036']['B01001']['estimate'][colkey]"
   ]
  },
  {
   "cell_type": "code",
   "execution_count": null,
   "metadata": {
    "collapsed": false
   },
   "outputs": [],
   "source": [
    "d['data']['86000US07002']"
   ]
  },
  {
   "cell_type": "code",
   "execution_count": null,
   "metadata": {
    "collapsed": false
   },
   "outputs": [],
   "source": [
    "# QUERY TABLE DATA & LOAD IT INTO A PANDAS DATAFRAME \n",
    "tbl_id = 'B01001'\n",
    "\n",
    "df = pd.DataFrame(columns=create_column_multiindex(d['tables']['B01001']['columns']))\n",
    "\n",
    "rows = []\n",
    "for location_code in d['data']:\n",
    "    if len(location_code.split('US')[-1]) == 5:\n",
    "        zipcode = location_code.split('US')[-1]\n",
    "        row = {'zip':zipcode}\n",
    "        male_idx = list(sorted(d['data'][location_code][tbl_id]['estimate'].keys()))\n",
    "        \n",
    "        for colkey in sorted(d['data'][location_code][tbl_id]['estimate'].keys()):\n",
    "            \n",
    "            row[columns_to_names[colkey]] = d['data'][location_code][tbl_id]['estimate'][colname]\n",
    "            #print columns_to_names[colname], \"\\t\", d['data'][location_code][tbl_id]['estimate'][colname]\n",
    "        rows.append(row)\n",
    "\n",
    "# NYC Age & Male/Female Demographics by zip code         \n",
    "df = pd.DataFrame(rows).groupby('zip').sum()\n",
    "df.columns = [df.columns[-1]] + list(df.columns[:-1])\n",
    "#df = df.transpose()\n",
    "#df.tail()"
   ]
  },
  {
   "cell_type": "code",
   "execution_count": null,
   "metadata": {
    "collapsed": false
   },
   "outputs": [],
   "source": [
    "df.T.loc['07036']"
   ]
  },
  {
   "cell_type": "code",
   "execution_count": null,
   "metadata": {
    "collapsed": false
   },
   "outputs": [],
   "source": [
    "# NYC Male/Female Dempgraphics by zip code\n",
    "df = df.transpose()\n",
    "df[['Female','Male']]"
   ]
  },
  {
   "cell_type": "code",
   "execution_count": null,
   "metadata": {
    "collapsed": false
   },
   "outputs": [],
   "source": [
    "zip_codes = [x.split('US')[-1] for x in list((d['data']).iterkeys())]\n",
    "print zip_codes"
   ]
  },
  {
   "cell_type": "code",
   "execution_count": null,
   "metadata": {
    "collapsed": false
   },
   "outputs": [],
   "source": [
    "print d['data']"
   ]
  },
  {
   "cell_type": "code",
   "execution_count": null,
   "metadata": {
    "collapsed": true
   },
   "outputs": [],
   "source": []
  }
 ],
 "metadata": {
  "anaconda-cloud": {},
  "kernelspec": {
   "display_name": "Python [conda root]",
   "language": "python",
   "name": "conda-root-py"
  },
  "language_info": {
   "codemirror_mode": {
    "name": "ipython",
    "version": 3
   },
   "file_extension": ".py",
   "mimetype": "text/x-python",
   "name": "python",
   "nbconvert_exporter": "python",
   "pygments_lexer": "ipython3",
   "version": "3.5.3"
  }
 },
 "nbformat": 4,
 "nbformat_minor": 2
}
