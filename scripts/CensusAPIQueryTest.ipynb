{
 "cells": [
  {
   "cell_type": "code",
   "execution_count": 1,
   "metadata": {
    "collapsed": true
   },
   "outputs": [],
   "source": [
    "import requests\n",
    "import urllib\n",
    "import json\n",
    "\n",
    "def get_table_data(table_ids):\n",
    "    api_url = 'https://api.censusreporter.org/1.0/data/show/latest?'\n",
    "    params = {'table_ids':','.join(table_ids),\n",
    "             'geo_ids':'16000US3651000,860|16000US3651000',\n",
    "              'primary_geo_id':'16000US3651000'}\n",
    "    params_enc = urllib.urlencode(params)\n",
    "    data = json.loads(requests.get(api_url + params_enc).text)\n",
    "    return data"
   ]
  },
  {
   "cell_type": "code",
   "execution_count": null,
   "metadata": {
    "collapsed": true
   },
   "outputs": [],
   "source": [
    "d = get_table_data(['B01001'])"
   ]
  },
  {
   "cell_type": "code",
   "execution_count": null,
   "metadata": {
    "collapsed": false
   },
   "outputs": [],
   "source": [
    "columns_to_names = {col : d['tables']['B01001']['columns'][col]['name'] for col in d['tables']['B01001']['columns'].keys()}\n",
    "d['data']"
   ]
  },
  {
   "cell_type": "code",
   "execution_count": null,
   "metadata": {
    "collapsed": false
   },
   "outputs": [],
   "source": [
    "tbl_id = 'B01001'\n",
    "for location_code in d['data']:\n",
    "    if len(location_code.split('US')[-1]) == 5:\n",
    "        print \"ZIP = \", location_code.split('US')[-1]\n",
    "        for colname in d['data'][location_code][tbl_id]['estimate']:\n",
    "            print columns_to_names[colname], \"\\t\", d['data'][location_code][tbl_id]['estimate'][colname]"
   ]
  },
  {
   "cell_type": "code",
   "execution_count": null,
   "metadata": {
    "collapsed": true
   },
   "outputs": [],
   "source": []
  }
 ],
 "metadata": {
  "kernelspec": {
   "display_name": "Python 2",
   "language": "python",
   "name": "python2"
  },
  "language_info": {
   "codemirror_mode": {
    "name": "ipython",
    "version": 2
   },
   "file_extension": ".py",
   "mimetype": "text/x-python",
   "name": "python",
   "nbconvert_exporter": "python",
   "pygments_lexer": "ipython2",
   "version": "2.7.13"
  }
 },
 "nbformat": 4,
 "nbformat_minor": 2
}
