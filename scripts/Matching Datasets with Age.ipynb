{
 "cells": [
  {
   "cell_type": "code",
   "execution_count": 104,
   "metadata": {
    "collapsed": true
   },
   "outputs": [],
   "source": [
    "import pandas as pd\n",
    "import numpy as np\n",
    "import matplotlib.pyplot as plt\n",
    "%matplotlib inline"
   ]
  },
  {
   "cell_type": "code",
   "execution_count": 101,
   "metadata": {},
   "outputs": [],
   "source": [
    "cdf = pd.read_csv('../data/311_sample_head.csv')"
   ]
  },
  {
   "cell_type": "code",
   "execution_count": 115,
   "metadata": {},
   "outputs": [],
   "source": [
    "mn = pd.read_csv('../data/BORO_zip_files_csv/MN.csv')\n",
    "qn = pd.read_csv('../data/BORO_zip_files_csv/QN.csv')\n",
    "bk = pd.read_csv('../data/BORO_zip_files_csv/BK.csv')\n",
    "si = pd.read_csv('../data/BORO_zip_files_csv/SI.csv')\n",
    "bx = pd.read_csv('../data/BORO_zip_files_csv/BX.csv')\n",
    "bdf = pd.concat([mn,qn,bk,si,bx])"
   ]
  },
  {
   "cell_type": "code",
   "execution_count": 116,
   "metadata": {},
   "outputs": [
    {
     "data": {
      "text/html": [
       "<div>\n",
       "<table border=\"1\" class=\"dataframe\">\n",
       "  <thead>\n",
       "    <tr style=\"text-align: right;\">\n",
       "      <th></th>\n",
       "      <th>Borough</th>\n",
       "      <th>Block</th>\n",
       "      <th>Lot</th>\n",
       "      <th>CD</th>\n",
       "      <th>CT2010</th>\n",
       "      <th>CB2010</th>\n",
       "      <th>SchoolDist</th>\n",
       "      <th>Council</th>\n",
       "      <th>ZipCode</th>\n",
       "      <th>FireComp</th>\n",
       "      <th>...</th>\n",
       "      <th>YCoord</th>\n",
       "      <th>ZoneMap</th>\n",
       "      <th>ZMCode</th>\n",
       "      <th>Sanborn</th>\n",
       "      <th>TaxMap</th>\n",
       "      <th>EDesigNum</th>\n",
       "      <th>APPBBL</th>\n",
       "      <th>APPDate</th>\n",
       "      <th>PLUTOMapID</th>\n",
       "      <th>Version</th>\n",
       "    </tr>\n",
       "  </thead>\n",
       "  <tbody>\n",
       "    <tr>\n",
       "      <th>0</th>\n",
       "      <td>MN</td>\n",
       "      <td>1</td>\n",
       "      <td>10</td>\n",
       "      <td>101</td>\n",
       "      <td>5.0</td>\n",
       "      <td>1018.0</td>\n",
       "      <td>2.0</td>\n",
       "      <td>1.0</td>\n",
       "      <td>10004.0</td>\n",
       "      <td>E007</td>\n",
       "      <td>...</td>\n",
       "      <td>190225.0</td>\n",
       "      <td>16a</td>\n",
       "      <td>Y</td>\n",
       "      <td>199 999</td>\n",
       "      <td>10101.0</td>\n",
       "      <td>NaN</td>\n",
       "      <td>0.0</td>\n",
       "      <td>NaN</td>\n",
       "      <td>1</td>\n",
       "      <td>16V2</td>\n",
       "    </tr>\n",
       "    <tr>\n",
       "      <th>1</th>\n",
       "      <td>MN</td>\n",
       "      <td>1</td>\n",
       "      <td>101</td>\n",
       "      <td>101</td>\n",
       "      <td>1.0</td>\n",
       "      <td>1001.0</td>\n",
       "      <td>2.0</td>\n",
       "      <td>1.0</td>\n",
       "      <td>10004.0</td>\n",
       "      <td>E007</td>\n",
       "      <td>...</td>\n",
       "      <td>190636.0</td>\n",
       "      <td>16a</td>\n",
       "      <td>Y</td>\n",
       "      <td>199 999</td>\n",
       "      <td>10101.0</td>\n",
       "      <td>NaN</td>\n",
       "      <td>0.0</td>\n",
       "      <td>NaN</td>\n",
       "      <td>1</td>\n",
       "      <td>16V2</td>\n",
       "    </tr>\n",
       "    <tr>\n",
       "      <th>2</th>\n",
       "      <td>MN</td>\n",
       "      <td>1</td>\n",
       "      <td>201</td>\n",
       "      <td>101</td>\n",
       "      <td>1.0</td>\n",
       "      <td>1000.0</td>\n",
       "      <td>2.0</td>\n",
       "      <td>1.0</td>\n",
       "      <td>10004.0</td>\n",
       "      <td>E007</td>\n",
       "      <td>...</td>\n",
       "      <td>193648.0</td>\n",
       "      <td>12b</td>\n",
       "      <td>NaN</td>\n",
       "      <td>199 999</td>\n",
       "      <td>10101.0</td>\n",
       "      <td>NaN</td>\n",
       "      <td>0.0</td>\n",
       "      <td>NaN</td>\n",
       "      <td>1</td>\n",
       "      <td>16V2</td>\n",
       "    </tr>\n",
       "    <tr>\n",
       "      <th>3</th>\n",
       "      <td>MN</td>\n",
       "      <td>1</td>\n",
       "      <td>301</td>\n",
       "      <td>101</td>\n",
       "      <td>NaN</td>\n",
       "      <td>NaN</td>\n",
       "      <td>2.0</td>\n",
       "      <td>1.0</td>\n",
       "      <td>10004.0</td>\n",
       "      <td>E007</td>\n",
       "      <td>...</td>\n",
       "      <td>NaN</td>\n",
       "      <td>12b</td>\n",
       "      <td>NaN</td>\n",
       "      <td>199 999</td>\n",
       "      <td>10101.0</td>\n",
       "      <td>NaN</td>\n",
       "      <td>0.0</td>\n",
       "      <td>NaN</td>\n",
       "      <td>4</td>\n",
       "      <td>16V2</td>\n",
       "    </tr>\n",
       "    <tr>\n",
       "      <th>4</th>\n",
       "      <td>MN</td>\n",
       "      <td>1</td>\n",
       "      <td>401</td>\n",
       "      <td>101</td>\n",
       "      <td>NaN</td>\n",
       "      <td>NaN</td>\n",
       "      <td>2.0</td>\n",
       "      <td>1.0</td>\n",
       "      <td>10004.0</td>\n",
       "      <td>E007</td>\n",
       "      <td>...</td>\n",
       "      <td>NaN</td>\n",
       "      <td>12b</td>\n",
       "      <td>NaN</td>\n",
       "      <td>1 99 999</td>\n",
       "      <td>10101.0</td>\n",
       "      <td>NaN</td>\n",
       "      <td>0.0</td>\n",
       "      <td>NaN</td>\n",
       "      <td>4</td>\n",
       "      <td>16V2</td>\n",
       "    </tr>\n",
       "  </tbody>\n",
       "</table>\n",
       "<p>5 rows × 84 columns</p>\n",
       "</div>"
      ],
      "text/plain": [
       "  Borough  Block  Lot   CD  CT2010  CB2010  SchoolDist  Council  ZipCode  \\\n",
       "0      MN      1   10  101     5.0  1018.0         2.0      1.0  10004.0   \n",
       "1      MN      1  101  101     1.0  1001.0         2.0      1.0  10004.0   \n",
       "2      MN      1  201  101     1.0  1000.0         2.0      1.0  10004.0   \n",
       "3      MN      1  301  101     NaN     NaN         2.0      1.0  10004.0   \n",
       "4      MN      1  401  101     NaN     NaN         2.0      1.0  10004.0   \n",
       "\n",
       "  FireComp   ...      YCoord  ZoneMap  ZMCode   Sanborn   TaxMap EDesigNum  \\\n",
       "0     E007   ...    190225.0      16a       Y   199 999  10101.0       NaN   \n",
       "1     E007   ...    190636.0      16a       Y   199 999  10101.0       NaN   \n",
       "2     E007   ...    193648.0      12b     NaN   199 999  10101.0       NaN   \n",
       "3     E007   ...         NaN      12b     NaN   199 999  10101.0       NaN   \n",
       "4     E007   ...         NaN      12b     NaN  1 99 999  10101.0       NaN   \n",
       "\n",
       "  APPBBL APPDate PLUTOMapID Version  \n",
       "0    0.0     NaN          1    16V2  \n",
       "1    0.0     NaN          1    16V2  \n",
       "2    0.0     NaN          1    16V2  \n",
       "3    0.0     NaN          4    16V2  \n",
       "4    0.0     NaN          4    16V2  \n",
       "\n",
       "[5 rows x 84 columns]"
      ]
     },
     "execution_count": 116,
     "metadata": {},
     "output_type": "execute_result"
    }
   ],
   "source": [
    "bdf.head()"
   ]
  },
  {
   "cell_type": "code",
   "execution_count": 117,
   "metadata": {},
   "outputs": [
    {
     "data": {
      "text/plain": [
       "BK    0.000003\n",
       "BX    0.000002\n",
       "QN    0.000002\n",
       "MN    0.000002\n",
       "Name: Borough, dtype: float64"
      ]
     },
     "execution_count": 117,
     "metadata": {},
     "output_type": "execute_result"
    }
   ],
   "source": [
    "y[:-1]/cdf.shape[0]"
   ]
  },
  {
   "cell_type": "markdown",
   "metadata": {},
   "source": [
    "## Plot borough frequency before neighborhood mapping"
   ]
  },
  {
   "cell_type": "code",
   "execution_count": 118,
   "metadata": {},
   "outputs": [
    {
     "data": {
      "text/plain": [
       "<matplotlib.text.Text at 0x1c4c21910>"
      ]
     },
     "execution_count": 118,
     "metadata": {},
     "output_type": "execute_result"
    },
    {
     "data": {
      "image/png": "[encoded data removed]",
      "text/plain": [
       "<matplotlib.figure.Figure at 0x1633e9350>"
      ]
     },
     "metadata": {},
     "output_type": "display_data"
    }
   ],
   "source": [
    "y = cdf.Borough.value_counts()[:-1] / cdf.shape[0]\n",
    "x = y.index\n",
    "y_pos = np.arange(len(x))\n",
    "\n",
    "plt.barh(y_pos, y, align='center', alpha=0.5)\n",
    "plt.yticks(y_pos, x)\n",
    "plt.xlabel('Fraction of Complaints')\n",
    "plt.title('Complaints by Borough, Before Processing')"
   ]
  },
  {
   "cell_type": "code",
   "execution_count": 119,
   "metadata": {
    "collapsed": true
   },
   "outputs": [],
   "source": [
    "def clean_address(address):\n",
    "    '''\n",
    "    Strip whitespace and convert string to upper\n",
    "    '''\n",
    "    try:\n",
    "        return str.upper(address).strip()\n",
    "    except:\n",
    "        return None\n",
    "\n",
    "def clean(df):\n",
    "    '''\n",
    "    Clean and filter the building dataframe\n",
    "    Use only relevant columns and remove rows where YearBuilt==0\n",
    "    '''\n",
    "    df = df[['Address','XCoord','YCoord','ZipCode','YearBuilt','Borough']].copy()\n",
    "    df['Address'] = df['Address'].apply(clean_address)\n",
    "    df.drop(df[df['YearBuilt']==0].index,inplace=True)\n",
    "    return df\n",
    "\n",
    "def summary(df):\n",
    "    '''\n",
    "    Print percent null and top 10 most common values\n",
    "    '''\n",
    "    pct_null = df['Address'].isnull().sum()*1./df.shape[0]\n",
    "    print \"pct null:\",round(pct_null,2)\n",
    "    print df['Address'].value_counts().head(10)"
   ]
  },
  {
   "cell_type": "markdown",
   "metadata": {},
   "source": [
    "# Neighborhoods"
   ]
  },
  {
   "cell_type": "code",
   "execution_count": 120,
   "metadata": {
    "collapsed": true
   },
   "outputs": [],
   "source": [
    "def import_neighborhoods(fname):\n",
    "    '''\n",
    "    import wikipedia neighborhoods file\n",
    "    returns: dictionary where key is borough\n",
    "        and value is list of neighborhoods\n",
    "    '''\n",
    "    with open(fname,'r') as f:\n",
    "        raw = f.read()\n",
    "    lines = raw.split('\\n')\n",
    "    boroughs = {}\n",
    "    for line in lines:\n",
    "        fields = line.split(',')\n",
    "        borough = fields.pop(0)\n",
    "        if borough not in boroughs:\n",
    "            boroughs[borough]=[]\n",
    "        for f in fields:\n",
    "            if f:\n",
    "                neighborhood = str.upper(f.strip())\n",
    "                boroughs[borough].append(neighborhood)\n",
    "    boroughs2 = {'QN':boroughs['Queens']+['QUEENS'],\n",
    "                 'BK':boroughs['Brooklyn']+['BROOKLYN'],\n",
    "                 'MN':boroughs['Manhattan']+['MANHATTAN','NEW YORK'],\n",
    "                 'SI':boroughs['Staten Island']+['STATEN ISLAND'],\n",
    "                 'BX':boroughs['Bronx']+['BRONX']}\n",
    "    return boroughs2"
   ]
  },
  {
   "cell_type": "code",
   "execution_count": 121,
   "metadata": {
    "collapsed": true
   },
   "outputs": [],
   "source": [
    "def city2borough(city):\n",
    "    for borough,hood_list in neighborhoods.iteritems():\n",
    "        try:\n",
    "            if str.upper(city) in hood_list:\n",
    "                return borough\n",
    "        except:\n",
    "            return None"
   ]
  },
  {
   "cell_type": "markdown",
   "metadata": {},
   "source": [
    "# Apply functions"
   ]
  },
  {
   "cell_type": "code",
   "execution_count": 123,
   "metadata": {},
   "outputs": [],
   "source": [
    "#clean data\n",
    "bdf = clean(bdf)\n",
    "\n",
    "#clean up and rename address\n",
    "cdf['Address'] = cdf['Incident Address'].apply(clean_address)\n",
    "\n",
    "#import neighborhoods data\n",
    "hoods_fname='../data/wiki_Neighborhoods_in_New_York_City.csv'\n",
    "neighborhoods = import_neighborhoods(hoods_fname)\n",
    "cdf['orig_borough'] = cdf['Borough'].copy()\n",
    "cdf['Borough'] = cdf.City.apply(city2borough)\n",
    "hdf = cdf[cdf['Complaint Type']=='HEATING']"
   ]
  },
  {
   "cell_type": "markdown",
   "metadata": {},
   "source": [
    "## Many boroughs that were previously unspecified now are specified"
   ]
  },
  {
   "cell_type": "code",
   "execution_count": 126,
   "metadata": {},
   "outputs": [
    {
     "data": {
      "text/html": [
       "<div>\n",
       "<table border=\"1\" class=\"dataframe\">\n",
       "  <thead>\n",
       "    <tr style=\"text-align: right;\">\n",
       "      <th>orig_borough</th>\n",
       "      <th>BRONX</th>\n",
       "      <th>BROOKLYN</th>\n",
       "      <th>MANHATTAN</th>\n",
       "      <th>QUEENS</th>\n",
       "      <th>STATEN ISLAND</th>\n",
       "      <th>Unspecified</th>\n",
       "    </tr>\n",
       "    <tr>\n",
       "      <th>Borough</th>\n",
       "      <th></th>\n",
       "      <th></th>\n",
       "      <th></th>\n",
       "      <th></th>\n",
       "      <th></th>\n",
       "      <th></th>\n",
       "    </tr>\n",
       "  </thead>\n",
       "  <tbody>\n",
       "    <tr>\n",
       "      <th>BK</th>\n",
       "      <td>0</td>\n",
       "      <td>15032</td>\n",
       "      <td>0</td>\n",
       "      <td>6</td>\n",
       "      <td>0</td>\n",
       "      <td>14885</td>\n",
       "    </tr>\n",
       "    <tr>\n",
       "      <th>BX</th>\n",
       "      <td>6038</td>\n",
       "      <td>1</td>\n",
       "      <td>1</td>\n",
       "      <td>1</td>\n",
       "      <td>0</td>\n",
       "      <td>14628</td>\n",
       "    </tr>\n",
       "    <tr>\n",
       "      <th>MN</th>\n",
       "      <td>1</td>\n",
       "      <td>6</td>\n",
       "      <td>9741</td>\n",
       "      <td>2</td>\n",
       "      <td>0</td>\n",
       "      <td>8814</td>\n",
       "    </tr>\n",
       "    <tr>\n",
       "      <th>QN</th>\n",
       "      <td>1</td>\n",
       "      <td>3</td>\n",
       "      <td>1</td>\n",
       "      <td>14387</td>\n",
       "      <td>0</td>\n",
       "      <td>4877</td>\n",
       "    </tr>\n",
       "    <tr>\n",
       "      <th>SI</th>\n",
       "      <td>0</td>\n",
       "      <td>0</td>\n",
       "      <td>0</td>\n",
       "      <td>135</td>\n",
       "      <td>3876</td>\n",
       "      <td>665</td>\n",
       "    </tr>\n",
       "  </tbody>\n",
       "</table>\n",
       "</div>"
      ],
      "text/plain": [
       "orig_borough  BRONX  BROOKLYN  MANHATTAN  QUEENS  STATEN ISLAND  Unspecified\n",
       "Borough                                                                     \n",
       "BK                0     15032          0       6              0        14885\n",
       "BX             6038         1          1       1              0        14628\n",
       "MN                1         6       9741       2              0         8814\n",
       "QN                1         3          1   14387              0         4877\n",
       "SI                0         0          0     135           3876          665"
      ]
     },
     "execution_count": 126,
     "metadata": {},
     "output_type": "execute_result"
    }
   ],
   "source": [
    "pd.crosstab(cdf.Borough,cdf.orig_borough)"
   ]
  },
  {
   "cell_type": "code",
   "execution_count": 127,
   "metadata": {},
   "outputs": [
    {
     "data": {
      "text/plain": [
       "BK    29923\n",
       "BX    20669\n",
       "QN    19269\n",
       "MN    18564\n",
       "SI     4676\n",
       "Name: Borough, dtype: int64"
      ]
     },
     "execution_count": 127,
     "metadata": {},
     "output_type": "execute_result"
    }
   ],
   "source": [
    "cdf.Borough.value_counts()"
   ]
  },
  {
   "cell_type": "markdown",
   "metadata": {},
   "source": [
    "## Plot borough frequency after neighborhood mapping"
   ]
  },
  {
   "cell_type": "code",
   "execution_count": 38,
   "metadata": {},
   "outputs": [
    {
     "data": {
      "text/plain": [
       "<matplotlib.text.Text at 0x116f11b50>"
      ]
     },
     "execution_count": 38,
     "metadata": {},
     "output_type": "execute_result"
    },
    {
     "data": {
      "image/png": "[encoded data removed]",
      "text/plain": [
       "<matplotlib.figure.Figure at 0x116fdc5d0>"
      ]
     },
     "metadata": {},
     "output_type": "display_data"
    }
   ],
   "source": [
    "y = cdf.Borough.value_counts() / cdf.shape[0]\n",
    "x = y.index\n",
    "x = ['BROOKLYN','BRONX','QUEENS','MANHATTAN','STATEN ISLAND']\n",
    "y_pos = np.arange(len(x))\n",
    "\n",
    "plt.barh(y_pos, y, align='center', alpha=0.5)\n",
    "plt.yticks(y_pos, x)\n",
    "plt.xlabel('Fraction of Complaints')\n",
    "plt.title('Complaints by Borough, After Neighborhood Mapping')"
   ]
  },
  {
   "cell_type": "code",
   "execution_count": 39,
   "metadata": {
    "collapsed": true
   },
   "outputs": [],
   "source": [
    "#Remove duplicates from buildings dataframe.  Only keep the newest one\n",
    "bdf = bdf.sort_values(by='YearBuilt',ascending=False)\n",
    "dupes = bdf.duplicated(subset=['Borough','Address'],keep='first')\n",
    "bdf.drop(dupes[dupes].index,inplace=True)"
   ]
  },
  {
   "cell_type": "code",
   "execution_count": 40,
   "metadata": {
    "collapsed": true
   },
   "outputs": [],
   "source": [
    "#Merge buildings dataframe with heating dataframe\n",
    "mdf = hdf.merge(bdf,how='inner',on=['Address','Borough'])"
   ]
  },
  {
   "cell_type": "code",
   "execution_count": 45,
   "metadata": {
    "collapsed": true
   },
   "outputs": [],
   "source": [
    "mdf2 = hdf.merge(bdf,how='left',on=['Address','Borough'])"
   ]
  },
  {
   "cell_type": "code",
   "execution_count": 41,
   "metadata": {},
   "outputs": [
    {
     "name": "stdout",
     "output_type": "stream",
     "text": [
      "(15853, 58)\n",
      "(21655, 54)\n",
      "(715058, 6)\n"
     ]
    }
   ],
   "source": [
    "print mdf.shape\n",
    "print hdf.shape\n",
    "print bdf.shape"
   ]
  },
  {
   "cell_type": "code",
   "execution_count": 44,
   "metadata": {},
   "outputs": [
    {
     "data": {
      "text/html": [
       "<div>\n",
       "<table border=\"1\" class=\"dataframe\">\n",
       "  <thead>\n",
       "    <tr style=\"text-align: right;\">\n",
       "      <th></th>\n",
       "      <th>Unique Key</th>\n",
       "      <th>Created Date</th>\n",
       "      <th>Closed Date</th>\n",
       "      <th>Agency</th>\n",
       "      <th>Agency Name</th>\n",
       "      <th>Complaint Type</th>\n",
       "      <th>Descriptor</th>\n",
       "      <th>Location Type</th>\n",
       "      <th>Incident Zip</th>\n",
       "      <th>Incident Address</th>\n",
       "      <th>...</th>\n",
       "      <th>Road Ramp</th>\n",
       "      <th>Bridge Highway Segment</th>\n",
       "      <th>Garage Lot Name</th>\n",
       "      <th>Ferry Direction</th>\n",
       "      <th>Ferry Terminal Name</th>\n",
       "      <th>Latitude</th>\n",
       "      <th>Longitude</th>\n",
       "      <th>Location</th>\n",
       "      <th>Address</th>\n",
       "      <th>borough2</th>\n",
       "    </tr>\n",
       "  </thead>\n",
       "  <tbody>\n",
       "    <tr>\n",
       "      <th>1</th>\n",
       "      <td>12826511</td>\n",
       "      <td>01/01/2009 12:00:00 AM</td>\n",
       "      <td>01/07/2009 12:00:00 AM</td>\n",
       "      <td>HPD</td>\n",
       "      <td>Department of Housing Preservation and Develop...</td>\n",
       "      <td>HEATING</td>\n",
       "      <td>HEAT</td>\n",
       "      <td>RESIDENTIAL BUILDING</td>\n",
       "      <td>11237</td>\n",
       "      <td>1409 HANCOCK STREET</td>\n",
       "      <td>...</td>\n",
       "      <td>NaN</td>\n",
       "      <td>NaN</td>\n",
       "      <td>NaN</td>\n",
       "      <td>NaN</td>\n",
       "      <td>NaN</td>\n",
       "      <td>40.6959</td>\n",
       "      <td>-73.9076</td>\n",
       "      <td>(40.69589152610558, -73.9075975573773)</td>\n",
       "      <td>1409 HANCOCK STREET</td>\n",
       "      <td>Unspecified</td>\n",
       "    </tr>\n",
       "    <tr>\n",
       "      <th>2</th>\n",
       "      <td>12826514</td>\n",
       "      <td>01/01/2009 12:00:00 AM</td>\n",
       "      <td>01/07/2009 12:00:00 AM</td>\n",
       "      <td>HPD</td>\n",
       "      <td>Department of Housing Preservation and Develop...</td>\n",
       "      <td>HEATING</td>\n",
       "      <td>HEAT</td>\n",
       "      <td>RESIDENTIAL BUILDING</td>\n",
       "      <td>10467</td>\n",
       "      <td>3204 HOLLAND AVENUE</td>\n",
       "      <td>...</td>\n",
       "      <td>NaN</td>\n",
       "      <td>NaN</td>\n",
       "      <td>NaN</td>\n",
       "      <td>NaN</td>\n",
       "      <td>NaN</td>\n",
       "      <td>40.8716</td>\n",
       "      <td>-73.8652</td>\n",
       "      <td>(40.8715731645546, -73.8651936604682)</td>\n",
       "      <td>3204 HOLLAND AVENUE</td>\n",
       "      <td>Unspecified</td>\n",
       "    </tr>\n",
       "    <tr>\n",
       "      <th>3</th>\n",
       "      <td>12826518</td>\n",
       "      <td>01/01/2009 12:00:00 AM</td>\n",
       "      <td>01/08/2009 12:00:00 AM</td>\n",
       "      <td>HPD</td>\n",
       "      <td>Department of Housing Preservation and Develop...</td>\n",
       "      <td>HEATING</td>\n",
       "      <td>HEAT</td>\n",
       "      <td>RESIDENTIAL BUILDING</td>\n",
       "      <td>11226</td>\n",
       "      <td>131 EAST 21 STREET</td>\n",
       "      <td>...</td>\n",
       "      <td>NaN</td>\n",
       "      <td>NaN</td>\n",
       "      <td>NaN</td>\n",
       "      <td>NaN</td>\n",
       "      <td>NaN</td>\n",
       "      <td>40.6513</td>\n",
       "      <td>-73.9602</td>\n",
       "      <td>(40.6512806982575, -73.96017059735964)</td>\n",
       "      <td>131 EAST 21 STREET</td>\n",
       "      <td>Unspecified</td>\n",
       "    </tr>\n",
       "    <tr>\n",
       "      <th>4</th>\n",
       "      <td>12826527</td>\n",
       "      <td>01/01/2009 12:00:00 AM</td>\n",
       "      <td>NaN</td>\n",
       "      <td>HPD</td>\n",
       "      <td>Department of Housing Preservation and Develop...</td>\n",
       "      <td>HEATING</td>\n",
       "      <td>HEAT</td>\n",
       "      <td>RESIDENTIAL BUILDING</td>\n",
       "      <td>10467</td>\n",
       "      <td>740 EAST GUN HILL ROAD</td>\n",
       "      <td>...</td>\n",
       "      <td>NaN</td>\n",
       "      <td>NaN</td>\n",
       "      <td>NaN</td>\n",
       "      <td>NaN</td>\n",
       "      <td>NaN</td>\n",
       "      <td>40.877</td>\n",
       "      <td>-73.8652</td>\n",
       "      <td>(40.87696644472854, -73.86515379714511)</td>\n",
       "      <td>740 EAST GUN HILL ROAD</td>\n",
       "      <td>Unspecified</td>\n",
       "    </tr>\n",
       "    <tr>\n",
       "      <th>6</th>\n",
       "      <td>12826533</td>\n",
       "      <td>01/01/2009 12:00:00 AM</td>\n",
       "      <td>01/07/2009 12:00:00 AM</td>\n",
       "      <td>HPD</td>\n",
       "      <td>Department of Housing Preservation and Develop...</td>\n",
       "      <td>HEATING</td>\n",
       "      <td>HEAT</td>\n",
       "      <td>RESIDENTIAL BUILDING</td>\n",
       "      <td>11220</td>\n",
       "      <td>5813 4 AVENUE</td>\n",
       "      <td>...</td>\n",
       "      <td>NaN</td>\n",
       "      <td>NaN</td>\n",
       "      <td>NaN</td>\n",
       "      <td>NaN</td>\n",
       "      <td>NaN</td>\n",
       "      <td>40.6419</td>\n",
       "      <td>-74.0174</td>\n",
       "      <td>(40.64185246137445, -74.0173643472391)</td>\n",
       "      <td>5813 4 AVENUE</td>\n",
       "      <td>Unspecified</td>\n",
       "    </tr>\n",
       "  </tbody>\n",
       "</table>\n",
       "<p>5 rows × 54 columns</p>\n",
       "</div>"
      ],
      "text/plain": [
       "  Unique Key            Created Date             Closed Date Agency  \\\n",
       "1   12826511  01/01/2009 12:00:00 AM  01/07/2009 12:00:00 AM    HPD   \n",
       "2   12826514  01/01/2009 12:00:00 AM  01/07/2009 12:00:00 AM    HPD   \n",
       "3   12826518  01/01/2009 12:00:00 AM  01/08/2009 12:00:00 AM    HPD   \n",
       "4   12826527  01/01/2009 12:00:00 AM                     NaN    HPD   \n",
       "6   12826533  01/01/2009 12:00:00 AM  01/07/2009 12:00:00 AM    HPD   \n",
       "\n",
       "                                         Agency Name Complaint Type  \\\n",
       "1  Department of Housing Preservation and Develop...        HEATING   \n",
       "2  Department of Housing Preservation and Develop...        HEATING   \n",
       "3  Department of Housing Preservation and Develop...        HEATING   \n",
       "4  Department of Housing Preservation and Develop...        HEATING   \n",
       "6  Department of Housing Preservation and Develop...        HEATING   \n",
       "\n",
       "  Descriptor         Location Type Incident Zip        Incident Address  \\\n",
       "1       HEAT  RESIDENTIAL BUILDING        11237     1409 HANCOCK STREET   \n",
       "2       HEAT  RESIDENTIAL BUILDING        10467     3204 HOLLAND AVENUE   \n",
       "3       HEAT  RESIDENTIAL BUILDING        11226      131 EAST 21 STREET   \n",
       "4       HEAT  RESIDENTIAL BUILDING        10467  740 EAST GUN HILL ROAD   \n",
       "6       HEAT  RESIDENTIAL BUILDING        11220           5813 4 AVENUE   \n",
       "\n",
       "      ...      Road Ramp Bridge Highway Segment Garage Lot Name  \\\n",
       "1     ...            NaN                    NaN             NaN   \n",
       "2     ...            NaN                    NaN             NaN   \n",
       "3     ...            NaN                    NaN             NaN   \n",
       "4     ...            NaN                    NaN             NaN   \n",
       "6     ...            NaN                    NaN             NaN   \n",
       "\n",
       "  Ferry Direction Ferry Terminal Name Latitude Longitude  \\\n",
       "1             NaN                 NaN  40.6959  -73.9076   \n",
       "2             NaN                 NaN  40.8716  -73.8652   \n",
       "3             NaN                 NaN  40.6513  -73.9602   \n",
       "4             NaN                 NaN   40.877  -73.8652   \n",
       "6             NaN                 NaN  40.6419  -74.0174   \n",
       "\n",
       "                                  Location                 Address  \\\n",
       "1   (40.69589152610558, -73.9075975573773)     1409 HANCOCK STREET   \n",
       "2    (40.8715731645546, -73.8651936604682)     3204 HOLLAND AVENUE   \n",
       "3   (40.6512806982575, -73.96017059735964)      131 EAST 21 STREET   \n",
       "4  (40.87696644472854, -73.86515379714511)  740 EAST GUN HILL ROAD   \n",
       "6   (40.64185246137445, -74.0173643472391)           5813 4 AVENUE   \n",
       "\n",
       "      borough2  \n",
       "1  Unspecified  \n",
       "2  Unspecified  \n",
       "3  Unspecified  \n",
       "4  Unspecified  \n",
       "6  Unspecified  \n",
       "\n",
       "[5 rows x 54 columns]"
      ]
     },
     "execution_count": 44,
     "metadata": {},
     "output_type": "execute_result"
    }
   ],
   "source": [
    "hdf.head()"
   ]
  },
  {
   "cell_type": "markdown",
   "metadata": {},
   "source": [
    "## Calculate fraction of heating complaints that were lost in the join"
   ]
  },
  {
   "cell_type": "code",
   "execution_count": 43,
   "metadata": {},
   "outputs": [
    {
     "data": {
      "text/plain": [
       "-0.2679288847841145"
      ]
     },
     "execution_count": 43,
     "metadata": {},
     "output_type": "execute_result"
    }
   ],
   "source": [
    "mdf.shape[0]*1./hdf.shape[0]-1"
   ]
  },
  {
   "cell_type": "code",
   "execution_count": 42,
   "metadata": {
    "collapsed": true
   },
   "outputs": [],
   "source": [
    "counts = mdf.groupby(['YearBuilt']).count()"
   ]
  },
  {
   "cell_type": "markdown",
   "metadata": {},
   "source": [
    "## More complaints from older buildings.  But are there just more older buildings?"
   ]
  },
  {
   "cell_type": "code",
   "execution_count": 71,
   "metadata": {},
   "outputs": [
    {
     "data": {
      "text/plain": [
       "<matplotlib.text.Text at 0x11c044fd0>"
      ]
     },
     "execution_count": 71,
     "metadata": {},
     "output_type": "execute_result"
    },
    {
     "data": {
      "image/png": "[encoded data removed]",
      "text/plain": [
       "<matplotlib.figure.Figure at 0x11c7756d0>"
      ]
     },
     "metadata": {},
     "output_type": "display_data"
    }
   ],
   "source": [
    "plt.scatter(counts.index,counts['Complaint Type'])\n",
    "plt.title(\"Complaints By Building Completion Date\")\n",
    "plt.xlabel(\"Completion Date (Year Built) of Buildings\")\n",
    "plt.ylabel(\"Number of Complaints\")"
   ]
  },
  {
   "cell_type": "markdown",
   "metadata": {},
   "source": [
    "## Number of buildings by age"
   ]
  },
  {
   "cell_type": "code",
   "execution_count": 73,
   "metadata": {
    "scrolled": true
   },
   "outputs": [
    {
     "data": {
      "text/plain": [
       "<matplotlib.text.Text at 0x10f593990>"
      ]
     },
     "execution_count": 73,
     "metadata": {},
     "output_type": "execute_result"
    },
    {
     "data": {
      "image/png": "[encoded data removed]",
      "text/plain": [
       "<matplotlib.figure.Figure at 0x11cb3d190>"
      ]
     },
     "metadata": {},
     "output_type": "display_data"
    }
   ],
   "source": [
    "first_year = 1880\n",
    "bdf.loc[bdf['YearBuilt']>=first_year,'YearBuilt'].hist(bins=2016-first_year)\n",
    "plt.title('Buildings by Age')"
   ]
  },
  {
   "cell_type": "code",
   "execution_count": 74,
   "metadata": {
    "collapsed": true
   },
   "outputs": [],
   "source": [
    "building_counts = bdf.groupby('YearBuilt').count()['Borough']"
   ]
  },
  {
   "cell_type": "code",
   "execution_count": 75,
   "metadata": {
    "collapsed": true
   },
   "outputs": [],
   "source": [
    "counts['building_count']=building_counts"
   ]
  },
  {
   "cell_type": "code",
   "execution_count": 82,
   "metadata": {
    "scrolled": true
   },
   "outputs": [
    {
     "data": {
      "text/plain": [
       "<matplotlib.text.Text at 0x14be1b710>"
      ]
     },
     "execution_count": 82,
     "metadata": {},
     "output_type": "execute_result"
    },
    {
     "data": {
      "image/png": "[encoded data removed]",
      "text/plain": [
       "<matplotlib.figure.Figure at 0x14be24950>"
      ]
     },
     "metadata": {},
     "output_type": "display_data"
    }
   ],
   "source": [
    "plt.scatter(counts.index,counts['Complaint Type']/counts['building_count'])\n",
    "plt.xlim([1880,2016])\n",
    "plt.title(\"Complaints per Building by Year\")\n",
    "plt.xlabel(\"Year Built\")\n",
    "plt.ylabel(\"Complaints per Building\")"
   ]
  },
  {
   "cell_type": "code",
   "execution_count": null,
   "metadata": {
    "collapsed": true
   },
   "outputs": [],
   "source": []
  },
  {
   "cell_type": "code",
   "execution_count": 80,
   "metadata": {
    "collapsed": true
   },
   "outputs": [],
   "source": [
    "age = pd.read_csv('../data/complaints vs. age.csv')"
   ]
  },
  {
   "cell_type": "code",
   "execution_count": 83,
   "metadata": {},
   "outputs": [
    {
     "data": {
      "text/html": [
       "<div>\n",
       "<table border=\"1\" class=\"dataframe\">\n",
       "  <thead>\n",
       "    <tr style=\"text-align: right;\">\n",
       "      <th></th>\n",
       "      <th>Unnamed: 0</th>\n",
       "      <th>YearBuilt</th>\n",
       "      <th>total</th>\n",
       "      <th>Complaint Type</th>\n",
       "      <th>complaints</th>\n",
       "    </tr>\n",
       "  </thead>\n",
       "  <tbody>\n",
       "    <tr>\n",
       "      <th>0</th>\n",
       "      <td>0</td>\n",
       "      <td>2001</td>\n",
       "      <td>3802</td>\n",
       "      <td>HEATING</td>\n",
       "      <td>772</td>\n",
       "    </tr>\n",
       "    <tr>\n",
       "      <th>1</th>\n",
       "      <td>1</td>\n",
       "      <td>1999</td>\n",
       "      <td>3186</td>\n",
       "      <td>HEATING</td>\n",
       "      <td>385</td>\n",
       "    </tr>\n",
       "    <tr>\n",
       "      <th>2</th>\n",
       "      <td>2</td>\n",
       "      <td>1889</td>\n",
       "      <td>16</td>\n",
       "      <td>HEATING</td>\n",
       "      <td>4</td>\n",
       "    </tr>\n",
       "    <tr>\n",
       "      <th>3</th>\n",
       "      <td>3</td>\n",
       "      <td>1951</td>\n",
       "      <td>644</td>\n",
       "      <td>HEATING</td>\n",
       "      <td>2160</td>\n",
       "    </tr>\n",
       "    <tr>\n",
       "      <th>4</th>\n",
       "      <td>4</td>\n",
       "      <td>1930</td>\n",
       "      <td>69439</td>\n",
       "      <td>HEATING</td>\n",
       "      <td>42534</td>\n",
       "    </tr>\n",
       "  </tbody>\n",
       "</table>\n",
       "</div>"
      ],
      "text/plain": [
       "   Unnamed: 0  YearBuilt  total Complaint Type  complaints\n",
       "0           0       2001   3802        HEATING         772\n",
       "1           1       1999   3186        HEATING         385\n",
       "2           2       1889     16        HEATING           4\n",
       "3           3       1951    644        HEATING        2160\n",
       "4           4       1930  69439        HEATING       42534"
      ]
     },
     "execution_count": 83,
     "metadata": {},
     "output_type": "execute_result"
    }
   ],
   "source": [
    "age.head()"
   ]
  },
  {
   "cell_type": "code",
   "execution_count": 84,
   "metadata": {
    "collapsed": true
   },
   "outputs": [],
   "source": [
    "age['complaints_per_building'] = age.complaints/age.total"
   ]
  },
  {
   "cell_type": "code",
   "execution_count": 110,
   "metadata": {},
   "outputs": [
    {
     "data": {
      "text/plain": [
       "<matplotlib.text.Text at 0x163496310>"
      ]
     },
     "execution_count": 110,
     "metadata": {},
     "output_type": "execute_result"
    },
    {
     "data": {
      "image/png": "[encoded data removed]",
      "text/plain": [
       "<matplotlib.figure.Figure at 0x1634bfc90>"
      ]
     },
     "metadata": {},
     "output_type": "display_data"
    }
   ],
   "source": [
    "plt.figure(figsize=(7,5))\n",
    "plt.scatter(age.YearBuilt,age.complaints_per_building)\n",
    "plt.xlim([1820,2016])\n",
    "plt.title(\"Complaints per Building by Building Age\")\n",
    "plt.xlabel(\"Year Built\")\n",
    "plt.ylabel(\"Avg. Num. Complaints per Building\")"
   ]
  },
  {
   "cell_type": "code",
   "execution_count": null,
   "metadata": {
    "collapsed": true
   },
   "outputs": [],
   "source": []
  }
 ],
 "metadata": {
  "kernelspec": {
   "display_name": "Python 2",
   "language": "python",
   "name": "python2"
  },
  "language_info": {
   "codemirror_mode": {
    "name": "ipython",
    "version": 2
   },
   "file_extension": ".py",
   "mimetype": "text/x-python",
   "name": "python",
   "nbconvert_exporter": "python",
   "pygments_lexer": "ipython2",
   "version": "2.7.13"
  }
 },
 "nbformat": 4,
 "nbformat_minor": 2
}
