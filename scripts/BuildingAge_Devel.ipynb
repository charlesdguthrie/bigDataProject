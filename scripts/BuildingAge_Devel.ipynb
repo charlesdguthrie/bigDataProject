{
 "cells": [
  {
   "cell_type": "code",
   "execution_count": 44,
   "metadata": {
    "collapsed": true
   },
   "outputs": [],
   "source": [
    "import pyspark.sql\n",
    "from pyspark.sql import SparkSession\n",
    "from pyspark.sql.types import StringType\n",
    "from pyspark.sql import functions as F\n",
    "import pandas as pd \n",
    "\n",
    "###!!!\n",
    "# RENAME ss => spark as done in faq.py\n",
    "###!!!\n",
    "ss = SparkSession.builder \\\n",
    "                .master(\"local\") \\\n",
    "                .appName(\"311 Analysis\") \\\n",
    "                .getOrCreate()"
   ]
  },
  {
   "cell_type": "code",
   "execution_count": 21,
   "metadata": {
    "collapsed": true
   },
   "outputs": [],
   "source": [
    "cdf = ss.read.csv('data/311_small.csv', header=True)\n",
    "# 1. Filter for only rows where we have a HEATING complaint\n",
    "hdf = cdf.filter(cdf[\"Complaint Type\"].like('%HEATING%'))"
   ]
  },
  {
   "cell_type": "code",
   "execution_count": 22,
   "metadata": {
    "collapsed": true
   },
   "outputs": [],
   "source": [
    "# 2. Clean the address data\n",
    "def clean_address(address):\n",
    "    try:\n",
    "        return str.upper(address).strip()\n",
    "    except:\n",
    "        return None\n",
    "    \n",
    "clean_address_as_col = F.udf(lambda address: address.upper().strip() if address else None, StringType())\n",
    "\n",
    "hdf = hdf.withColumn('Address', \n",
    "                     clean_address_as_col('Incident Address'))"
   ]
  },
  {
   "cell_type": "code",
   "execution_count": 23,
   "metadata": {
    "collapsed": true
   },
   "outputs": [],
   "source": [
    "# 3. Use Wikipedia data to find 311 borough\n",
    "# Ideally, instead of using this loaded dict, would use some kind of RDD...\n",
    "def import_neighborhoods(fname):\n",
    "    '''\n",
    "    import wikipedia neighborhoods file\n",
    "    returns: dictionary where key is borough\n",
    "        and value is list of neighborhoods\n",
    "    '''\n",
    "    with open(fname,'r') as f:\n",
    "        raw = f.read()\n",
    "    lines = raw.split('\\n')\n",
    "    boroughs = {}\n",
    "    for line in lines:\n",
    "        fields = line.split(',')\n",
    "        borough = fields.pop(0)\n",
    "        if borough not in boroughs:\n",
    "            boroughs[borough]=[]\n",
    "        for f in fields:\n",
    "            if f:\n",
    "                neighborhood = str.upper(f.strip())\n",
    "                boroughs[borough].append(neighborhood)\n",
    "    boroughs2 = {'QN':boroughs['Queens']+['QUEENS'],\n",
    "                 'BK':boroughs['Brooklyn']+['BROOKLYN'],\n",
    "                 'MN':boroughs['Manhattan']+['MANHATTAN','NEW YORK'],\n",
    "                 'SI':boroughs['Staten Island']+['STATEN ISLAND'],\n",
    "                 'BX':boroughs['Bronx']+['BRONX']}\n",
    "    return boroughs2\n",
    "\n",
    "def city2borough(city):\n",
    "    for borough,hood_list in neighborhoods.iteritems():\n",
    "        if city in hood_list:\n",
    "            return borough\n",
    "\n",
    "#import neighborhoods data\n",
    "hoods_fname='data/wiki_neighborhoods_2.csv'\n",
    "##\n",
    "neighborhoods = import_neighborhoods(hoods_fname)"
   ]
  },
  {
   "cell_type": "code",
   "execution_count": 24,
   "metadata": {
    "collapsed": true
   },
   "outputs": [],
   "source": [
    "city2borough_col = F.udf(city2borough)\n",
    "hdf = hdf.withColumn('Borough', city2borough_col('City'))"
   ]
  },
  {
   "cell_type": "code",
   "execution_count": 25,
   "metadata": {
    "collapsed": false
   },
   "outputs": [
    {
     "data": {
      "text/plain": [
       "Row(_c0=u'28880', Address=u'172 GELDNER AVENUE', XCoord=None, YCoord=None, ZipCode=u'10306.0', YearBuilt=u'2016', Borough=u'SI')"
      ]
     },
     "execution_count": 25,
     "metadata": {},
     "output_type": "execute_result"
    }
   ],
   "source": [
    "bdf = ss.read.csv('Buildings_Clean.csv', header=True)\n",
    "bdf.head()"
   ]
  },
  {
   "cell_type": "code",
   "execution_count": 26,
   "metadata": {
    "collapsed": true
   },
   "outputs": [],
   "source": [
    "mdf = hdf.join(bdf, on=['Address','Borough'], how='inner')"
   ]
  },
  {
   "cell_type": "code",
   "execution_count": 50,
   "metadata": {
    "collapsed": true
   },
   "outputs": [],
   "source": [
    "totals = bdf.groupby(['YearBuilt']).agg({'*':'count'})\n",
    "totals = totals.withColumnRenamed('count(1)', 'total')\n",
    "\n",
    "complaints = mdf.groupby(['YearBuilt','Complaint Type']).agg({'*':'count'})\n",
    "complaints = complaints.withColumnRenamed('count(1)','complaints')\n",
    "\n",
    "result = totals.join(complaints, on='YearBuilt', how='inner')\n",
    "# Write to CSV\n",
    "result.toPandas().to_csv('result.csv')"
   ]
  },
  {
   "cell_type": "code",
   "execution_count": 51,
   "metadata": {
    "collapsed": true
   },
   "outputs": [],
   "source": [
    "df = pd.read_csv('result.csv').sort_values('YearBuilt')"
   ]
  },
  {
   "cell_type": "code",
   "execution_count": 60,
   "metadata": {
    "collapsed": false
   },
   "outputs": [
    {
     "data": {
      "text/plain": [
       "<matplotlib.collections.PathCollection at 0x112144350>"
      ]
     },
     "execution_count": 60,
     "metadata": {},
     "output_type": "execute_result"
    },
    {
     "data": {
      "image/png": "[encoded data removed]",
      "text/plain": [
       "<matplotlib.figure.Figure at 0x111f7a790>"
      ]
     },
     "metadata": {},
     "output_type": "display_data"
    }
   ],
   "source": [
    "%matplotlib inline\n",
    "plt.scatter(df['YearBuilt'], (df['complaints']/df['total']))"
   ]
  },
  {
   "cell_type": "code",
   "execution_count": null,
   "metadata": {
    "collapsed": true
   },
   "outputs": [],
   "source": []
  }
 ],
 "metadata": {
  "kernelspec": {
   "display_name": "Python 2",
   "language": "python",
   "name": "python2"
  },
  "language_info": {
   "codemirror_mode": {
    "name": "ipython",
    "version": 2
   },
   "file_extension": ".py",
   "mimetype": "text/x-python",
   "name": "python",
   "nbconvert_exporter": "python",
   "pygments_lexer": "ipython2",
   "version": "2.7.13"
  }
 },
 "nbformat": 4,
 "nbformat_minor": 2
}
