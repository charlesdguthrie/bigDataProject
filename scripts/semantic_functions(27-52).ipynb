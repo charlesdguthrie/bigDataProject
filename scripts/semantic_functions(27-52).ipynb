{
 "cells": [
  {
   "cell_type": "code",
   "execution_count": 2,
   "metadata": {
    "collapsed": false
   },
   "outputs": [],
   "source": [
    "import re\n",
    "from functools import partial\n",
    "\n",
    "def _semantic_validity_factory(value, semantic_name, null_values=set(('Unspecified','N/A','')), **kwargs):\n",
    "    if value in null_values:\n",
    "        return (None, None)\n",
    "    elif all(f(value) for name, f in kwargs.items() if 'semantic' in name):\n",
    "        if all(f(value) for name, f in kwargs.items() if 'valid' in name):\n",
    "            return (semantic_name,'VALID')\n",
    "        else:\n",
    "            return (semantic_name,'INVALID')\n",
    "    else:\n",
    "        # only checking for semantic type!\n",
    "        return (None, None)"
   ]
  },
  {
   "cell_type": "code",
   "execution_count": 70,
   "metadata": {
    "collapsed": false
   },
   "outputs": [],
   "source": [
    "# semantic_type = 'school_region' (index: )\n",
    "\n",
    "school_region_semantic = re.compile(r'(Alternative|Region|District)')\n",
    "school_region_valid = re.compile(r'.+\\s[1-9]$|.+\\s10$|.+\\s75$|.+\\sSuperintendency$')\n",
    "school_region_args = {'semantic_match': school_region_semantic.match,\n",
    "                      'valid_check': school_region_valid.match}\n",
    "                      \n",
    "is_school_region = partial(_semantic_validity_factory, semantic_name='school_region', **school_region_args)"
   ]
  },
  {
   "cell_type": "code",
   "execution_count": 9,
   "metadata": {
    "collapsed": false
   },
   "outputs": [],
   "source": [
    "# semantic_type = 'school_num' (index: 29)\n",
    "\n",
    "school_num_semantic = re.compile(r'([BMQRX]|\\b)\\d{1,3}(\\b|[A-Z]\\d{0,2}|\\-\\d{2,3}(\\b|[A-Z]))')\n",
    "school_num_args = {'semantic_match': school_num_semantic.match,\n",
    "                   'valid_check': lambda x: len(x) <= 8}\n",
    "\n",
    "is_school_number = partial(_semantic_validity_factory, semantic_name='school_num', **school_num_args)"
   ]
  },
  {
   "cell_type": "code",
   "execution_count": 11,
   "metadata": {
    "collapsed": false
   },
   "outputs": [],
   "source": [
    "# semantic_type = 'phone_num' (index: )\n",
    "\n",
    "phone_num_semantic = re.compile(r'(212|718|917)')\n",
    "phone_num_valid = re.compile(r'\\d{10}')\n",
    "phone_num_args = {'semantic_match': phone_num_semantic.match,\n",
    "                   'valid_check': phone_num_valid.match}\n",
    "\n",
    "is_phone_number = partial(_semantic_validity_factory, semantic_name='phone_num', **phone_num_args)"
   ]
  },
  {
   "cell_type": "code",
   "execution_count": 4,
   "metadata": {
    "collapsed": false
   },
   "outputs": [],
   "source": [
    "# semantic_type = 'address_name' \n",
    "\n",
    "address_name_semantic = re.compile(r'([\\w\\,\\.\\-]+ *)+')\n",
    "address_name_args = {'semantic_match': address_name_semantic.match,\n",
    "                     'valid_check': lambda x: True}\n",
    "\n",
    "is_address_name = partial(_semantic_validity_factory, semantic_name='address_name', **address_name_args)"
   ]
  },
  {
   "cell_type": "code",
   "execution_count": 5,
   "metadata": {
    "collapsed": false
   },
   "outputs": [
    {
     "data": {
      "text/plain": [
       "('address_name', 'VALID')"
      ]
     },
     "execution_count": 5,
     "metadata": {},
     "output_type": "execute_result"
    }
   ],
   "source": [
    "is_address_name('Abe Lincoln')"
   ]
  },
  {
   "cell_type": "code",
   "execution_count": 7,
   "metadata": {
    "collapsed": false
   },
   "outputs": [
    {
     "data": {
      "text/plain": [
       "('address_name', 'VALID')"
      ]
     },
     "execution_count": 7,
     "metadata": {},
     "output_type": "execute_result"
    }
   ],
   "source": [
    "is_address_name('Other:')"
   ]
  },
  {
   "cell_type": "code",
   "execution_count": 12,
   "metadata": {
    "collapsed": false
   },
   "outputs": [
    {
     "data": {
      "text/plain": [
       "('school_num', 'INVALID')"
      ]
     },
     "execution_count": 12,
     "metadata": {},
     "output_type": "execute_result"
    }
   ],
   "source": [
    "is_school_number('M058-0189')"
   ]
  },
  {
   "cell_type": "code",
   "execution_count": 74,
   "metadata": {
    "collapsed": false
   },
   "outputs": [
    {
     "data": {
      "text/plain": [
       "('school_region', 'INVALID')"
      ]
     },
     "execution_count": 74,
     "metadata": {},
     "output_type": "execute_result"
    }
   ],
   "source": [
    "is_school_region('Region 16')"
   ]
  },
  {
   "cell_type": "code",
   "execution_count": 72,
   "metadata": {
    "collapsed": false
   },
   "outputs": [
    {
     "data": {
      "text/plain": [
       "('school_region', 'VALID')"
      ]
     },
     "execution_count": 72,
     "metadata": {},
     "output_type": "execute_result"
    }
   ],
   "source": [
    "is_school_region('Alternative Superintendency')"
   ]
  },
  {
   "cell_type": "code",
   "execution_count": 73,
   "metadata": {
    "collapsed": false
   },
   "outputs": [
    {
     "data": {
      "text/plain": [
       "('school_region', 'VALID')"
      ]
     },
     "execution_count": 73,
     "metadata": {},
     "output_type": "execute_result"
    }
   ],
   "source": [
    "is_school_region('District 75')"
   ]
  },
  {
   "cell_type": "code",
   "execution_count": 12,
   "metadata": {
    "collapsed": false
   },
   "outputs": [
    {
     "data": {
      "text/plain": [
       "('phone_num', 'VALID')"
      ]
     },
     "execution_count": 12,
     "metadata": {},
     "output_type": "execute_result"
    }
   ],
   "source": [
    "is_phone_number('2126541236')"
   ]
  },
  {
   "cell_type": "code",
   "execution_count": 13,
   "metadata": {
    "collapsed": false
   },
   "outputs": [
    {
     "data": {
      "text/plain": [
       "(None, None)"
      ]
     },
     "execution_count": 13,
     "metadata": {},
     "output_type": "execute_result"
    }
   ],
   "source": [
    "is_phone_number('3146541236')"
   ]
  },
  {
   "cell_type": "code",
   "execution_count": 14,
   "metadata": {
    "collapsed": false
   },
   "outputs": [
    {
     "data": {
      "text/plain": [
       "('phone_num', 'INVALID')"
      ]
     },
     "execution_count": 14,
     "metadata": {},
     "output_type": "execute_result"
    }
   ],
   "source": [
    "is_phone_number('212654123 6')"
   ]
  },
  {
   "cell_type": "code",
   "execution_count": null,
   "metadata": {
    "collapsed": true
   },
   "outputs": [],
   "source": []
  },
  {
   "cell_type": "code",
   "execution_count": null,
   "metadata": {
    "collapsed": true
   },
   "outputs": [],
   "source": []
  },
  {
   "cell_type": "code",
   "execution_count": null,
   "metadata": {
    "collapsed": true
   },
   "outputs": [],
   "source": []
  }
 ],
 "metadata": {
  "anaconda-cloud": {},
  "kernelspec": {
   "display_name": "Python [conda root]",
   "language": "python",
   "name": "conda-root-py"
  },
  "language_info": {
   "codemirror_mode": {
    "name": "ipython",
    "version": 3
   },
   "file_extension": ".py",
   "mimetype": "text/x-python",
   "name": "python",
   "nbconvert_exporter": "python",
   "pygments_lexer": "ipython3",
   "version": "3.5.2"
  }
 },
 "nbformat": 4,
 "nbformat_minor": 2
}
