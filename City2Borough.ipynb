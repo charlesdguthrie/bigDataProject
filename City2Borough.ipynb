{
 "cells": [
  {
   "cell_type": "code",
   "execution_count": 1,
   "metadata": {
    "collapsed": false
   },
   "outputs": [],
   "source": [
    "from functools import partial\n",
    "import os\n",
    "\n",
    "NEIGHBORHOODS_CSV_FPATH = 'data/wiki_Neighborhoods_in_New_York_City.csv'\n",
    "\n",
    "def import_neighborhoods(fname):\n",
    "    '''\n",
    "    import wikipedia neighborhoods file\n",
    "    returns: dictionary where key is borough\n",
    "        and value is list of neighborhoods\n",
    "    '''\n",
    "    with open(fname, 'r') as f:\n",
    "        raw = f.read()\n",
    "    \n",
    "    lines = raw.split(os.linesep)\n",
    "    \n",
    "    assert len(lines)==59, \"Neighborhoods file not proper length\"\n",
    "    \n",
    "    boroughs = {}\n",
    "    \n",
    "    for line in lines:\n",
    "        fields = line.split(',')\n",
    "        borough = fields.pop(0)\n",
    "        if borough not in boroughs:\n",
    "            boroughs[borough]=[]\n",
    "        for f in fields:\n",
    "            if f:\n",
    "                neighborhood = str.upper(f.strip())\n",
    "                boroughs[borough].append(neighborhood)\n",
    "    boroughs_dict = {'QUEENS': set(boroughs['Queens']+['QUEENS']),\n",
    "                     'BROOKLYN': set(boroughs['Brooklyn']+['BROOKLYN']),\n",
    "                     'MANHATTAN': set(boroughs['Manhattan']+['MANHATTAN','NEW YORK']),\n",
    "                     'STATEN ISLAND': set(boroughs['Staten Island']+['STATEN ISLAND']),\n",
    "                     'BRONX':set(boroughs['Bronx']+['BRONX'])}\n",
    "    return boroughs_dict\n",
    "\n",
    "def _city2borough(city, neighborhoods):\n",
    "    '''\n",
    "    If borough is in the borough_list, return it\n",
    "    Otherwise, apply the city-to-borough map\n",
    "    '''\n",
    "\n",
    "    for borough, hood_list in neighborhoods.items():\n",
    "        try:\n",
    "            if str.upper(city) in hood_list:\n",
    "                return borough\n",
    "        except:\n",
    "            return 'None'\n",
    "    return 'None'\n",
    "\n",
    "neighborhoods = import_neighborhoods(NEIGHBORHOODS_CSV_FPATH)\n",
    "city2borough = partial(_city2borough, neighborhoods=neighborhoods)"
   ]
  },
  {
   "cell_type": "code",
   "execution_count": 30,
   "metadata": {
    "collapsed": false
   },
   "outputs": [],
   "source": [
    "def clean_borough(df):\n",
    "    \n",
    "    # NOTE: DEFINE THESE OUTSIDE OF FUNCTION\n",
    "    from pyspark.sql.functions import udf\n",
    "    from pyspark.sql.types import StringType\n",
    "\n",
    "    # UDF of our :city2borough function.\n",
    "    udf_city = udf(city2borough, StringType())\n",
    "    \n",
    "    # Replace original 'Borough' column with our inferred borough.\n",
    "    new_df = df.withColumn(\"Borough\", udf_city(df['City']))\n",
    "    \n",
    "    return new_df"
   ]
  },
  {
   "cell_type": "code",
   "execution_count": 31,
   "metadata": {
    "collapsed": false
   },
   "outputs": [],
   "source": [
    "df = spark.read.csv(\"/Users/danny/Downloads/311-all.csv\", header=True)\n",
    "new_df = clean_borough(df)"
   ]
  },
  {
   "cell_type": "code",
   "execution_count": 37,
   "metadata": {
    "collapsed": false
   },
   "outputs": [],
   "source": [
    "def reduce_dataset(df):\n",
    "    \n",
    "    cols = [\n",
    "        'Unique Key',\n",
    "        'Created Date',\n",
    "        'Complaint Type',\n",
    "        'Incident Zip',\n",
    "        'Borough',\n",
    "        'Latitude',\n",
    "        'Longitude'\n",
    "    ]\n",
    "    \n",
    "    reduced = df.select(cols)\n",
    "    return reduced, cols"
   ]
  },
  {
   "cell_type": "code",
   "execution_count": 38,
   "metadata": {
    "collapsed": false
   },
   "outputs": [],
   "source": [
    "reduced_df, header = reduce_dataset(new_df)"
   ]
  },
  {
   "cell_type": "code",
   "execution_count": 41,
   "metadata": {
    "collapsed": false
   },
   "outputs": [],
   "source": [
    "reduced_df.write.csv(\"/Users/danny/Downloads/311-reduced\")"
   ]
  },
  {
   "cell_type": "code",
   "execution_count": 43,
   "metadata": {
    "collapsed": false
   },
   "outputs": [],
   "source": [
    "with open('/Users/danny/Downloads/311-reduced/header.txt', 'w') as f:\n",
    "    f.write(\",\".join(header))"
   ]
  }
 ],
 "metadata": {
  "kernelspec": {
   "display_name": "Python [conda root]",
   "language": "python",
   "name": "conda-root-py"
  },
  "language_info": {
   "codemirror_mode": {
    "name": "ipython",
    "version": 3
   },
   "file_extension": ".py",
   "mimetype": "text/x-python",
   "name": "python",
   "nbconvert_exporter": "python",
   "pygments_lexer": "ipython3",
   "version": "3.5.3"
  }
 },
 "nbformat": 4,
 "nbformat_minor": 2
}
